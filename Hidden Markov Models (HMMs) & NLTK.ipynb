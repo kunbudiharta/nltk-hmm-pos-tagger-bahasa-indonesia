{
 "cells": [
  {
   "cell_type": "markdown",
   "metadata": {},
   "source": [
    "# Hidden Markov Models (HMMs) & NLTK\n",
    "Using manually tagging corpus Bahasa Indonesia"
   ]
  },
  {
   "cell_type": "code",
   "execution_count": 1,
   "metadata": {
    "collapsed": true
   },
   "outputs": [],
   "source": [
    "from pprint import pprint\n",
    "from nltk.tag import hmm\n",
    "from sklearn.externals import joblib\n",
    "from nltk.tag.hmm  import HiddenMarkovModelTagger, HiddenMarkovModelTrainer\n",
    "from nltk.probability import LidstoneProbDist"
   ]
  },
  {
   "cell_type": "markdown",
   "metadata": {},
   "source": [
    "## Load Corpus"
   ]
  },
  {
   "cell_type": "code",
   "execution_count": 2,
   "metadata": {
    "collapsed": true
   },
   "outputs": [],
   "source": [
    "fname = \"Indonesian_Manually_Tagged_Corpus.tsv\"\n",
    "fopen = open(fname,'r')\n",
    "fdata = fopen.readlines()"
   ]
  },
  {
   "cell_type": "code",
   "execution_count": 3,
   "metadata": {
    "collapsed": true
   },
   "outputs": [],
   "source": [
    "sentences = []\n",
    "sentence = []\n",
    "for word in fdata:\n",
    "    dt = word.replace('\\n','').split('\\t')\n",
    "    if(len(dt) == 1):\n",
    "        sentences.append(sentence)\n",
    "        sentence = []\n",
    "    else:\n",
    "        sentence.append((dt[0],dt[1]))"
   ]
  },
  {
   "cell_type": "markdown",
   "metadata": {},
   "source": [
    "## Split Training and Test Data"
   ]
  },
  {
   "cell_type": "code",
   "execution_count": 4,
   "metadata": {},
   "outputs": [
    {
     "name": "stdout",
     "output_type": "stream",
     "text": [
      "All Sentences : 10029 \n",
      "Training Sentences : 10018 \n",
      "Testing Sentences : 11 \n"
     ]
    }
   ],
   "source": [
    "print('All Sentences : %d ' % (len(sentences)))\n",
    "cutoff = int(.999 * len(sentences))\n",
    "training_sentences = sentences[:cutoff]\n",
    "test_sentences = sentences[cutoff:]\n",
    "print('Training Sentences : %d ' % (len(training_sentences)))\n",
    "print('Testing Sentences : %d ' % (len(test_sentences)))"
   ]
  },
  {
   "cell_type": "markdown",
   "metadata": {},
   "source": [
    "## Training Model"
   ]
  },
  {
   "cell_type": "code",
   "execution_count": 5,
   "metadata": {
    "scrolled": false
   },
   "outputs": [
    {
     "name": "stdout",
     "output_type": "stream",
     "text": [
      "Training Start\n",
      "Training Completed\n",
      "Testing Start\n",
      "Test: Jam/NN malam/NN akan/MD berlaku/VB efektif/JJ pada/IN pukul/NN 8/CD :/Z 30/CD sore/NN Kamis/NNP dan/CC akan/MD berakhir/VB sampai/IN pukul/NN 6/CD :/Z 0/CD pagi/NN waktu/NN setempat/NN Jumat/NNP ,/Z kata/VB seorang/NND juru bicara/NN militer/NN ./Z\n",
      "\n",
      "Untagged: Jam malam akan berlaku efektif pada pukul 8 : 30 sore Kamis dan akan berakhir sampai pukul 6 : 0 pagi waktu setempat Jumat , kata seorang juru bicara militer .\n",
      "\n",
      "HMM-tagged: Jam/DT malam/NN akan/MD berlaku/VB efektif/JJ pada/IN pukul/NN 8/CD :/Z 30/CD sore/NN Kamis/NNP dan/CC akan/MD berakhir/VB sampai/IN pukul/NN 6/CD :/Z 0/CD pagi/NN waktu/NN setempat/NN Jumat/NNP ,/Z kata/VB seorang/NND juru bicara/NN militer/NN ./Z\n",
      "\n",
      "Entropy: 10.7773913296\n",
      "\n",
      "------------------------------------------------------------\n",
      "Test: Dua/CD mahasiswa/NN oposisi/NN dan/CC dua/CD orang/NN lain/JJ -nya/PRP tewas/VB ditembak/VB dan/CC 100/CD orang/NN lain/JJ -nya/PRP cedera/JJ ,/Z kebanyakan/CD karena/SC serangan/NN senjata api/NN di/IN Universitas/NNP Arab/NNP Beirut/NNP ,/Z demikian/PR dilaporkan/VB Reuters/NNP ,/Z mengutip/VB sumber-sumber/NN keamanan/NN ./Z\n",
      "\n",
      "Untagged: Dua mahasiswa oposisi dan dua orang lain -nya tewas ditembak dan 100 orang lain -nya cedera , kebanyakan karena serangan senjata api di Universitas Arab Beirut , demikian dilaporkan Reuters , mengutip sumber-sumber keamanan .\n",
      "\n",
      "HMM-tagged: Dua/CD mahasiswa/NN oposisi/NN dan/CC dua/CD orang/NN lain/JJ -nya/PRP tewas/VB ditembak/VB dan/CC 100/CD orang/NN lain/JJ -nya/PRP cedera/JJ ,/Z kebanyakan/CD karena/SC serangan/NN senjata api/NN di/IN Universitas/NNP Arab/NNP Beirut/NNP ,/Z demikian/PR dilaporkan/VB Reuters/NNP ,/Z mengutip/VB sumber-sumber/NN keamanan/NN ./Z\n",
      "\n",
      "Entropy: 10.4536777407\n",
      "\n",
      "------------------------------------------------------------\n",
      "Test: Pertempuran/NN meletus/VB antara/IN mahasiswa-mahasiswa/NN dengan/SC menggunakan/VB pentungan/NN dan/CC batu/NN di/IN kampus/NN universitas/NN tersebut/PR ,/Z kemudian/CC menyebar/VB ke/IN jalan-jalan/NN terdekat/JJ ,/Z demikian/PR laporan/NN tersebut/PR ./Z\n",
      "\n",
      "Untagged: Pertempuran meletus antara mahasiswa-mahasiswa dengan menggunakan pentungan dan batu di kampus universitas tersebut , kemudian menyebar ke jalan-jalan terdekat , demikian laporan tersebut .\n",
      "\n",
      "HMM-tagged: Pertempuran/NN meletus/VB antara/IN mahasiswa-mahasiswa/NN dengan/SC menggunakan/VB pentungan/NN dan/CC batu/NN di/IN kampus/NN universitas/NN tersebut/PR ,/Z kemudian/CC menyebar/VB ke/IN jalan-jalan/NN terdekat/JJ ,/Z demikian/PR laporan/NN tersebut/PR ./Z\n",
      "\n",
      "Entropy: 11.1267333541\n",
      "\n",
      "------------------------------------------------------------\n",
      "Test: Orang/NN bersenjata/VB membunuh/VB seorang/NND aktivis/NN yang/SC berhubungan/VB dengan/IN kelompok/NN militan/JJ Fatah/NNP Brigade/NNP Syahid/NNP Al/NNP Aqsa/NNP di/IN Gaza/NNP Jumat/NNP pagi/NN ,/Z kata/VB Fatah/NNP ,/Z beberapa/CD jam/NN setelah/SC seorang/NND anggota/NN pasukan/NN keamanan/NN pimpinan/NN Hamas/NNP juga/RB tewas/VB karena/SC ledakan/NN bom/NN pinggir/NN jalan/NN ./Z\n",
      "\n",
      "Untagged: Orang bersenjata membunuh seorang aktivis yang berhubungan dengan kelompok militan Fatah Brigade Syahid Al Aqsa di Gaza Jumat pagi , kata Fatah , beberapa jam setelah seorang anggota pasukan keamanan pimpinan Hamas juga tewas karena ledakan bom pinggir jalan .\n",
      "\n",
      "HMM-tagged: Orang/NN bersenjata/VB membunuh/VB seorang/NND aktivis/NN yang/SC berhubungan/VB dengan/IN kelompok/NN militan/JJ Fatah/NNP Brigade/NNP Syahid/NNP Al/NNP Aqsa/NNP di/IN Gaza/NNP Jumat/NNP pagi/NN ,/Z kata/VB Fatah/NNP ,/Z beberapa/CD jam/NN setelah/SC seorang/NND anggota/NN pasukan/NN keamanan/NN pimpinan/NN Hamas/NNP juga/RB tewas/VB karena/SC ledakan/NN bom/NN pinggir/NN jalan/NN ./Z\n",
      "\n",
      "Entropy: 14.4670260738\n",
      "\n",
      "------------------------------------------------------------\n",
      "Test: Lebih/RB dari/IN 30/CD warga/NN Palestina/NNP telah/MD terbunuh/VB dalam/IN perang/NN antara/IN kelompok-kelompok/NN Hamas/NNP dan/CC Fatah/NNP yang/SC berlawanan/VB ,/Z sejak/IN Presiden/NNP Palestina/NNP Mahmoud/NNP Abbas/NNP bulan/NN lalu/CC menyerukan/VB untuk/SC dilakukannya/NN pemilihan/NN presiden/NN dan/CC parlemen/NN lebih/RB awal/NN ./Z\n",
      "\n",
      "Untagged: Lebih dari 30 warga Palestina telah terbunuh dalam perang antara kelompok-kelompok Hamas dan Fatah yang berlawanan , sejak Presiden Palestina Mahmoud Abbas bulan lalu menyerukan untuk dilakukannya pemilihan presiden dan parlemen lebih awal .\n",
      "\n",
      "HMM-tagged: Lebih/RB dari/IN 30/CD warga/NN Palestina/NNP telah/MD terbunuh/VB dalam/IN perang/NN antara/IN kelompok-kelompok/NN Hamas/NNP dan/CC Fatah/NNP yang/SC berlawanan/VB ,/Z sejak/IN Presiden/NNP Palestina/NNP Mahmoud/NNP Abbas/NNP bulan/NN lalu/CC menyerukan/VB untuk/IN dilakukannya/NN pemilihan/NN presiden/NN dan/CC parlemen/NN lebih/RB awal/NN ./Z\n",
      "\n",
      "Entropy: 12.1944659851\n",
      "\n",
      "------------------------------------------------------------\n",
      "Test: Pejabat-pejabat/NN rumah sakit/NN mengkonfirmasikan/VB bahwa/SC aktivis/NN tersebut/PR tewas/VB dalam/IN serangan/NN di/IN Jalur/NNP Gaza/NNP utara/NNP ./Z\n",
      "\n",
      "Untagged: Pejabat-pejabat rumah sakit mengkonfirmasikan bahwa aktivis tersebut tewas dalam serangan di Jalur Gaza utara .\n",
      "\n",
      "HMM-tagged: Pejabat-pejabat/NN rumah sakit/NN mengkonfirmasikan/VB bahwa/SC aktivis/NN tersebut/PR tewas/VB dalam/IN serangan/NN di/IN Jalur/NNP Gaza/NNP utara/NNP ./Z\n",
      "\n",
      "Entropy: 5.64533970845\n",
      "\n",
      "------------------------------------------------------------\n",
      "Test: Fatah/NNP menuduh/VB pasukan/NN keamanan/NN pimpinan/NN Hamas/NNP yang/SC '/Z membunuh/VB '/Z aktivis/NN tersebut/PR ./Z\n",
      "\n",
      "Untagged: Fatah menuduh pasukan keamanan pimpinan Hamas yang ' membunuh ' aktivis tersebut .\n",
      "\n",
      "HMM-tagged: Fatah/NNP menuduh/VB pasukan/NN keamanan/NN pimpinan/NN Hamas/NNP yang/SC '/Z membunuh/VB '/Z aktivis/NN tersebut/PR ./Z\n",
      "\n",
      "Entropy: 3.64954652185\n",
      "\n",
      "------------------------------------------------------------\n",
      "Test: Seorang/NND juru bicara/NN bagi/IN pasukan/NN pimpinan/NN Hamas/NNP tak/NEG bisa/MD diperoleh/VB komentar/NN -nya/PRP mengenai/IN hal/NN itu/PR ./Z\n",
      "\n",
      "Untagged: Seorang juru bicara bagi pasukan pimpinan Hamas tak bisa diperoleh komentar -nya mengenai hal itu .\n",
      "\n",
      "HMM-tagged: Seorang/NND juru bicara/NN bagi/IN pasukan/NN pimpinan/NN Hamas/NNP tak/NEG bisa/MD diperoleh/VB komentar/NN -nya/PRP mengenai/IN hal/NN itu/PR ./Z\n",
      "\n",
      "Entropy: 1.97895327225\n",
      "\n",
      "------------------------------------------------------------\n",
      "Test: Para/DT penduduk/NN setempat/NN mengatakan/VB ,/Z para/DT anggota/NN pasukan/NN pimpinan/NN Hamas/NNP telah/MD mengepung/VB rumah/NN aktivis/NN tersebut/PR dan/CC kemudian/CC menyerang/VB -nya/PRP ./Z\n",
      "\n",
      "Untagged: Para penduduk setempat mengatakan , para anggota pasukan pimpinan Hamas telah mengepung rumah aktivis tersebut dan kemudian menyerang -nya .\n",
      "\n",
      "HMM-tagged: Para/DT penduduk/NN setempat/NN mengatakan/VB ,/Z para/DT anggota/NN pasukan/NN pimpinan/NN Hamas/NNP telah/MD mengepung/VB rumah/NN aktivis/NN tersebut/PR dan/CC kemudian/RB menyerang/VB -nya/PRP ./Z\n",
      "\n",
      "Entropy: 4.14332960647\n",
      "\n",
      "------------------------------------------------------------\n",
      "Test: Mereka/PRP mengajukan/VB pertanyaan/NN kepada/IN -nya/PRP berkaitan/VB dengan/SC peledakan/NN bom/NN pinggir/NN jalan/NN ./Z\n",
      "\n",
      "Untagged: Mereka mengajukan pertanyaan kepada -nya berkaitan dengan peledakan bom pinggir jalan .\n",
      "\n",
      "HMM-tagged: Mereka/PRP mengajukan/VB pertanyaan/NN kepada/IN -nya/PRP berkaitan/VB dengan/IN peledakan/NN bom/NN pinggir/NN jalan/NN ./Z\n",
      "\n",
      "Entropy: 4.48663543372\n",
      "\n",
      "------------------------------------------------------------\n",
      "Test: Ledakan/NN bom/NN meninggalkan/VB kedua/CD anggota/NN pasukan/NN pimpinan/NN Hamas/NNP itu/PR dalam/IN keadaan/NN kondisi/NN kritis/JJ dan/CC tujuh/CD lain/JJ -nya/PRP yang/SC menderita/VB luka-luka/NN ,/Z kata/VB para/DT pejabat/NN rumah sakit/NN ./Z\n",
      "\n",
      "Untagged: Ledakan bom meninggalkan kedua anggota pasukan pimpinan Hamas itu dalam keadaan kondisi kritis dan tujuh lain -nya yang menderita luka-luka , kata para pejabat rumah sakit .\n",
      "\n",
      "HMM-tagged: Ledakan/NN bom/NN meninggalkan/VB kedua/CD anggota/NN pasukan/NN pimpinan/NN Hamas/NNP itu/PR dalam/IN keadaan/NN kondisi/NN kritis/JJ dan/CC tujuh/CD lain/JJ -nya/PRP yang/SC menderita/VB luka-luka/NN ,/Z kata/VB para/DT pejabat/NN rumah sakit/NN ./Z\n",
      "\n",
      "Entropy: 6.1100699243\n",
      "\n",
      "------------------------------------------------------------\n",
      "accuracy over 262 tokens: 98.47\n",
      "Testing Completed\n"
     ]
    }
   ],
   "source": [
    "print 'Training Start'\n",
    "trainer = HiddenMarkovModelTrainer()\n",
    "tagger = trainer.train_supervised(training_sentences, estimator=lambda fd, bins: LidstoneProbDist(fd, 0.1, bins))\n",
    "print 'Training Completed'\n",
    "\n",
    "print 'Testing Start'\n",
    "tagger.test(test_sentences, verbose=True)\n",
    "print 'Testing Completed'"
   ]
  },
  {
   "cell_type": "markdown",
   "metadata": {},
   "source": [
    "## Save Model"
   ]
  },
  {
   "cell_type": "code",
   "execution_count": 6,
   "metadata": {
    "collapsed": true
   },
   "outputs": [],
   "source": [
    "import dill\n",
    "with open('my_tagger.dill', 'wb') as f:\n",
    "    dill.dump(tagger, f)"
   ]
  },
  {
   "cell_type": "markdown",
   "metadata": {},
   "source": [
    "## Load Model"
   ]
  },
  {
   "cell_type": "code",
   "execution_count": 7,
   "metadata": {
    "collapsed": true
   },
   "outputs": [],
   "source": [
    "with open('my_tagger.dill', 'rb') as f:\n",
    "    hmm_tagger = dill.load(f)"
   ]
  },
  {
   "cell_type": "code",
   "execution_count": 8,
   "metadata": {
    "collapsed": true
   },
   "outputs": [],
   "source": [
    "from nltk.tokenize import WordPunctTokenizer\n",
    "from nltk import sent_tokenize\n",
    "from nltk import word_tokenize, RegexpParser, ne_chunk\n",
    "from collections import defaultdict\n",
    "import string"
   ]
  },
  {
   "cell_type": "code",
   "execution_count": 9,
   "metadata": {
    "collapsed": true
   },
   "outputs": [],
   "source": [
    "def hasNumbers(inputString):\n",
    "    result = False\n",
    "    for char in list(inputString):\n",
    "        if(char.isdigit()):\n",
    "            result = True\n",
    "    return result\n",
    "\n",
    "def xcheck_tag(word,tag):\n",
    "    punc = list(string.punctuation)\n",
    "    punc.append('.')\n",
    "    punc.append(',')\n",
    "    punc.append('\"')\n",
    "    punc.append(\"'\")\n",
    "    \n",
    "    dates = ['Januari','Februari','Maret','April','Mei','Juni','Juli','Agustus','September','Oktober','November','Desember',\\\n",
    "            'Jan','Feb','Mar','Apr','Mei','Jun','Jul','Agt','Sep','Okt','Nov','Des',\\\n",
    "            'januari','februari','maret','april','mei','juni','juli','agustus','september','oktober','november','desember',\\\n",
    "            'Senin','Selasa','Rabu','Kamis','Jumat','Sabtu','Minggu'\n",
    "        ]\n",
    "    \n",
    "    if(word in dates):\n",
    "        tag = 'DATE'\n",
    "    \n",
    "    if(word in punc):\n",
    "        tag = 'Z'\n",
    "        \n",
    "    if(tag == 'CD' and word.isdigit()):\n",
    "        tag = 'CD'\n",
    "        \n",
    "    if(tag in ['SYM','Z','CD','MD'] and word.upper() != word and hasNumbers(word) == False \\\n",
    "      and word[-3:] not in ['nya','kah','lah']):\n",
    "        tag = 'NNP'\n",
    "    \n",
    "    if(tag == 'NN' and word[:1].upper() == word):\n",
    "        tag = 'NNP'\n",
    "        \n",
    "    if(tag == 'NNP' and word.lower() == word):\n",
    "        tag = 'NN'\n",
    "    \n",
    "    if(tag == 'NNP' and len(word) == 1):\n",
    "        tag = 'NN'\n",
    "        \n",
    "    if(tag == 'FW' and word.lower() == word):\n",
    "        tag = 'NN'\n",
    "        \n",
    "    return word,tag\n",
    "\n",
    "def get_entity(wording,verbose=False):\n",
    "    word_punct_tokenizer = WordPunctTokenizer()\n",
    "    toktok = word_punct_tokenizer.tokenize(wording)\n",
    "    final_tagged = []\n",
    "    pos_tagging_begin = hmm_tagger.tag(toktok)\n",
    "    for ptb in pos_tagging_begin:\n",
    "        w,t = xcheck_tag(ptb[0],ptb[1])\n",
    "        final_tagged.append((w,t))\n",
    "    \n",
    "    if(verbose):\n",
    "        print(pos_tagging_begin)\n",
    "    \n",
    "    grammar = \"\"\"\n",
    "    ENTITY : {<NNP>+}\n",
    "    ENTITY : {<FW>+}\n",
    "    \"\"\"\n",
    "    result = []\n",
    "    chunkParser = RegexpParser(grammar)\n",
    "    tree = chunkParser.parse(final_tagged)\n",
    "    for subtree in tree.subtrees():\n",
    "        if(subtree.label()==\"ENTITY\"):\n",
    "            tampung_entity = []\n",
    "            for se in subtree.leaves():\n",
    "                tampung_entity.append(se[0])\n",
    "            result.append(' '.join(tampung_entity))\n",
    "    return result\n",
    "\n",
    "def leaders(xsz, top=10):\n",
    "    counts = defaultdict(int)\n",
    "    for xs in xsz:\n",
    "        for x in xs:\n",
    "            counts[x] += 1\n",
    "    return sorted(counts.items(), reverse=True, key=lambda tup: tup[1])[:top]"
   ]
  },
  {
   "cell_type": "code",
   "execution_count": 10,
   "metadata": {
    "collapsed": true
   },
   "outputs": [],
   "source": [
    "wording = '''Komisi Pemberantasan Korupsi melakukan operasi tangkap tangan terhadap istri Gubernur Bengkulu, Lili Martiani Maddari, dan pengusaha Rico Diansari pada Selasa (20/6/2017). Suap diduga diberikan untuk memuluskan proyek jalan di provinsi tersebut.\n",
    "Rico Diansari yang merupakan Bendahara DPD Golkar Provinsi Bengkulu langsung ditangkap KPK setelah menyerahkan uang dalam kardus dengan nominal diperkirakan Rp1 miliar. Uang diduga diterima Lili Martiani, di kediamannya di kawasan Sidomulyo, Bengkulu.\n",
    "Tak lama, KPK mengamankan Gubernur Bengkulu Ridwan Mukti dan menetapkannya sebagai tersangka. Suami istri itu pun kini mendekam di tahanan KPK.\n",
    "Ridwan diduga menerima suap dari pihak swasta terkait proyek pembangunan jalan yang nilai proyeknya diperkirakan mencapai Rp90 miliar. Penerimaan tersebut diduga merupakan yang pertama dari total komitmen yang disepakati.\n",
    "Ridwan menyatakan permohonan maaf kepada masyarakat. Ia pun menyatakan mundur dari kursi Gubernur Bengkulu. Ridwan juga menyatakan mundur sebagai Ketua DPD Golkar Provinsi Bengkulu.\n",
    "\"Ya mohon maaf lah, saya harus bertanggung jawab terhadap kekhilafan istri,\" kata Ridwan Mukti dengan rompi tahanan saat keluar dari Gedung KPK, Rabu (21/6/2017).\n",
    "Kompak pasutri terjerat korupsi\n",
    "Ridwan-Lili bukanlah pasangan suami istri pertama yang terjerat kasus korupsi. Ada sejumlah pasangan suami istri yang kompak terjerat korupsi dan telah menjalani masa tahanan, di antaranya mantan Gubernur Sumatera Utara, Gatot Pujo Nugroho dan istrinya Evy Susanti.\n",
    "Gatot dan Evy telah terbukti memberikan suap kepada Hakim serta Panitera PTUN Medan. Keduanya juga terbukti telah memberikan suap Rp200 juta kepada Patrice Rio Capella mantan Sekretaris Jenderal Partai NasDem dan anggota Komisi lll Dewan Perwakilan Rakyat.\n",
    "Gatot Pujo Nugroho dihukum penjara tiga tahun dalam kasus suap terhadap hakim di Medan, Senin (14/3/2016). Adapun istri muda Gatot, Evy Susanti menjalani hukuman 2,5 tahun penjara.\n",
    "Sebelum Gatot-Evy pasangan suami istri M. Nazaruddin dan istrinya, Neneng Sri Wahyuni telah lebih dulu menjadi terpidana korupsi. Nazaruddin dan Neneng kini masih menjalani masa hukumannya. Putusan berkekuatan hukum mengirim Neneng 6 tahun ke penjara, sedang Nazaruddin 7 tahun.\n",
    "Pasutri lainnya adalah wali kota Palembang, Sumatera Selatan, Tomi Herton dan istrinya, Masyito. Kasus yang menjeratnya adalah penyuapan terhadap mantan ketua MK, Akil Mochtar.\n",
    "Pengadilan Tipikor menjatuhkan hukuman 6 tahun penjara kepada Romi Herton, dan 4 tahun penjara kepada Masyito. Pengadilan tinggi DKI menambah hukuman Romi menjadi 7 tahun dan istrinya 5 tahun.\n",
    "Ada juga Bupati Karawang Ade Swara dan istrinya, Nurlatifah. Keduanya terjaring dalam operasi tangkap tangan, dalam kasus pemerasan pembangunan mal di Karawang. April lalu Pengadilan Tipikor menjatuhkan hukuman 6 tahun penjara untuk Ade, sedang Nurlatifah 5 tahun.\n",
    "'''\n",
    "senttok = sent_tokenize(wording)"
   ]
  },
  {
   "cell_type": "code",
   "execution_count": 11,
   "metadata": {
    "scrolled": false
   },
   "outputs": [
    {
     "name": "stdout",
     "output_type": "stream",
     "text": [
      "Kalimat : Komisi Pemberantasan Korupsi melakukan operasi tangkap tangan terhadap istri Gubernur Bengkulu, Lili Martiani Maddari, dan pengusaha Rico Diansari pada Selasa (20/6/2017).\n",
      "Entity : \n",
      "['Komisi Pemberantasan Korupsi', 'Gubernur Bengkulu', 'Lili Martiani Maddari', 'Rico Diansari']\n",
      "-------------------------------------------\n",
      "\n",
      "Kalimat : Suap diduga diberikan untuk memuluskan proyek jalan di provinsi tersebut.\n",
      "Entity : \n",
      "[]\n",
      "-------------------------------------------\n",
      "\n",
      "Kalimat : Rico Diansari yang merupakan Bendahara DPD Golkar Provinsi Bengkulu langsung ditangkap KPK setelah menyerahkan uang dalam kardus dengan nominal diperkirakan Rp1 miliar.\n",
      "Entity : \n",
      "['Rico Diansari', 'DPD Golkar Provinsi Bengkulu', 'KPK']\n",
      "-------------------------------------------\n",
      "\n",
      "Kalimat : Uang diduga diterima Lili Martiani, di kediamannya di kawasan Sidomulyo, Bengkulu.\n",
      "Entity : \n",
      "['Lili Martiani', 'Bengkulu']\n",
      "-------------------------------------------\n",
      "\n",
      "Kalimat : Tak lama, KPK mengamankan Gubernur Bengkulu Ridwan Mukti dan menetapkannya sebagai tersangka.\n",
      "Entity : \n",
      "['KPK', 'Gubernur Bengkulu Ridwan Mukti']\n",
      "-------------------------------------------\n",
      "\n",
      "Kalimat : Suami istri itu pun kini mendekam di tahanan KPK.\n",
      "Entity : \n",
      "['KPK']\n",
      "-------------------------------------------\n",
      "\n",
      "Kalimat : Ridwan diduga menerima suap dari pihak swasta terkait proyek pembangunan jalan yang nilai proyeknya diperkirakan mencapai Rp90 miliar.\n",
      "Entity : \n",
      "['Ridwan']\n",
      "-------------------------------------------\n",
      "\n",
      "Kalimat : Penerimaan tersebut diduga merupakan yang pertama dari total komitmen yang disepakati.\n",
      "Entity : \n",
      "[]\n",
      "-------------------------------------------\n",
      "\n",
      "Kalimat : Ridwan menyatakan permohonan maaf kepada masyarakat.\n",
      "Entity : \n",
      "['Ridwan']\n",
      "-------------------------------------------\n",
      "\n",
      "Kalimat : Ia pun menyatakan mundur dari kursi Gubernur Bengkulu.\n",
      "Entity : \n",
      "['Gubernur Bengkulu']\n",
      "-------------------------------------------\n",
      "\n",
      "Kalimat : Ridwan juga menyatakan mundur sebagai Ketua DPD Golkar Provinsi Bengkulu.\n",
      "Entity : \n",
      "['Ridwan', 'Ketua DPD Golkar Provinsi Bengkulu']\n",
      "-------------------------------------------\n",
      "\n",
      "Kalimat : \"Ya mohon maaf lah, saya harus bertanggung jawab terhadap kekhilafan istri,\" kata Ridwan Mukti dengan rompi tahanan saat keluar dari Gedung KPK, Rabu (21/6/2017).\n",
      "Entity : \n",
      "['Ridwan Mukti', 'Gedung KPK']\n",
      "-------------------------------------------\n",
      "\n",
      "Kalimat : Kompak pasutri terjerat korupsi\n",
      "Ridwan-Lili bukanlah pasangan suami istri pertama yang terjerat kasus korupsi.\n",
      "Entity : \n",
      "['Ridwan']\n",
      "-------------------------------------------\n",
      "\n",
      "Kalimat : Ada sejumlah pasangan suami istri yang kompak terjerat korupsi dan telah menjalani masa tahanan, di antaranya mantan Gubernur Sumatera Utara, Gatot Pujo Nugroho dan istrinya Evy Susanti.\n",
      "Entity : \n",
      "['Gubernur Sumatera Utara', 'Gatot Pujo Nugroho', 'Evy Susanti']\n",
      "-------------------------------------------\n",
      "\n",
      "Kalimat : Gatot dan Evy telah terbukti memberikan suap kepada Hakim serta Panitera PTUN Medan.\n",
      "Entity : \n",
      "['Gatot', 'Panitera PTUN Medan']\n",
      "-------------------------------------------\n",
      "\n",
      "Kalimat : Keduanya juga terbukti telah memberikan suap Rp200 juta kepada Patrice Rio Capella mantan Sekretaris Jenderal Partai NasDem dan anggota Komisi lll Dewan Perwakilan Rakyat.\n",
      "Entity : \n",
      "['Patrice Rio Capella', 'Sekretaris Jenderal Partai NasDem', 'Komisi', 'Dewan Perwakilan Rakyat']\n",
      "-------------------------------------------\n",
      "\n",
      "Kalimat : Gatot Pujo Nugroho dihukum penjara tiga tahun dalam kasus suap terhadap hakim di Medan, Senin (14/3/2016).\n",
      "Entity : \n",
      "['Gatot Pujo', 'Medan']\n",
      "-------------------------------------------\n",
      "\n",
      "Kalimat : Adapun istri muda Gatot, Evy Susanti menjalani hukuman 2,5 tahun penjara.\n",
      "Entity : \n",
      "['Gatot', 'Susanti']\n",
      "-------------------------------------------\n",
      "\n",
      "Kalimat : Sebelum Gatot-Evy pasangan suami istri M. Nazaruddin dan istrinya, Neneng Sri Wahyuni telah lebih dulu menjadi terpidana korupsi.\n",
      "Entity : \n",
      "['Gatot', 'Nazaruddin', 'Neneng Sri Wahyuni']\n",
      "-------------------------------------------\n",
      "\n",
      "Kalimat : Nazaruddin dan Neneng kini masih menjalani masa hukumannya.\n",
      "Entity : \n",
      "[]\n",
      "-------------------------------------------\n",
      "\n",
      "Kalimat : Putusan berkekuatan hukum mengirim Neneng 6 tahun ke penjara, sedang Nazaruddin 7 tahun.\n",
      "Entity : \n",
      "['Neneng']\n",
      "-------------------------------------------\n",
      "\n",
      "Kalimat : Pasutri lainnya adalah wali kota Palembang, Sumatera Selatan, Tomi Herton dan istrinya, Masyito.\n",
      "Entity : \n",
      "['Palembang', 'Sumatera Selatan', 'Tomi Herton', 'Masyito']\n",
      "-------------------------------------------\n",
      "\n",
      "Kalimat : Kasus yang menjeratnya adalah penyuapan terhadap mantan ketua MK, Akil Mochtar.\n",
      "Entity : \n",
      "['MK', 'Akil Mochtar']\n",
      "-------------------------------------------\n",
      "\n",
      "Kalimat : Pengadilan Tipikor menjatuhkan hukuman 6 tahun penjara kepada Romi Herton, dan 4 tahun penjara kepada Masyito.\n",
      "Entity : \n",
      "['Pengadilan Tipikor', 'Romi Herton', 'Masyito']\n",
      "-------------------------------------------\n",
      "\n",
      "Kalimat : Pengadilan tinggi DKI menambah hukuman Romi menjadi 7 tahun dan istrinya 5 tahun.\n",
      "Entity : \n",
      "['DKI']\n",
      "-------------------------------------------\n",
      "\n",
      "Kalimat : Ada juga Bupati Karawang Ade Swara dan istrinya, Nurlatifah.\n",
      "Entity : \n",
      "['Bupati Karawang Ade Swara', 'Nurlatifah']\n",
      "-------------------------------------------\n",
      "\n",
      "Kalimat : Keduanya terjaring dalam operasi tangkap tangan, dalam kasus pemerasan pembangunan mal di Karawang.\n",
      "Entity : \n",
      "['Karawang']\n",
      "-------------------------------------------\n",
      "\n",
      "Kalimat : April lalu Pengadilan Tipikor menjatuhkan hukuman 6 tahun penjara untuk Ade, sedang Nurlatifah 5 tahun.\n",
      "Entity : \n",
      "['Pengadilan Tipikor', 'Ade']\n",
      "-------------------------------------------\n",
      "\n"
     ]
    }
   ],
   "source": [
    "all_entity = []\n",
    "for xsent in senttok:\n",
    "    ent = get_entity(xsent, verbose=False)\n",
    "    all_entity.append(ent)\n",
    "    print('Kalimat : %s' % xsent)\n",
    "    print('Entity : ')\n",
    "    print(ent)\n",
    "    print('-------------------------------------------')\n",
    "    print('')"
   ]
  },
  {
   "cell_type": "markdown",
   "metadata": {},
   "source": [
    "## List Entity"
   ]
  },
  {
   "cell_type": "code",
   "execution_count": 12,
   "metadata": {},
   "outputs": [
    {
     "name": "stdout",
     "output_type": "stream",
     "text": [
      "[['Komisi Pemberantasan Korupsi',\n",
      "  'Gubernur Bengkulu',\n",
      "  'Lili Martiani Maddari',\n",
      "  'Rico Diansari'],\n",
      " [],\n",
      " ['Rico Diansari', 'DPD Golkar Provinsi Bengkulu', 'KPK'],\n",
      " ['Lili Martiani', 'Bengkulu'],\n",
      " ['KPK', 'Gubernur Bengkulu Ridwan Mukti'],\n",
      " ['KPK'],\n",
      " ['Ridwan'],\n",
      " [],\n",
      " ['Ridwan'],\n",
      " ['Gubernur Bengkulu'],\n",
      " ['Ridwan', 'Ketua DPD Golkar Provinsi Bengkulu'],\n",
      " ['Ridwan Mukti', 'Gedung KPK'],\n",
      " ['Ridwan'],\n",
      " ['Gubernur Sumatera Utara', 'Gatot Pujo Nugroho', 'Evy Susanti'],\n",
      " ['Gatot', 'Panitera PTUN Medan'],\n",
      " ['Patrice Rio Capella',\n",
      "  'Sekretaris Jenderal Partai NasDem',\n",
      "  'Komisi',\n",
      "  'Dewan Perwakilan Rakyat'],\n",
      " ['Gatot Pujo', 'Medan'],\n",
      " ['Gatot', 'Susanti'],\n",
      " ['Gatot', 'Nazaruddin', 'Neneng Sri Wahyuni'],\n",
      " [],\n",
      " ['Neneng'],\n",
      " ['Palembang', 'Sumatera Selatan', 'Tomi Herton', 'Masyito'],\n",
      " ['MK', 'Akil Mochtar'],\n",
      " ['Pengadilan Tipikor', 'Romi Herton', 'Masyito'],\n",
      " ['DKI'],\n",
      " ['Bupati Karawang Ade Swara', 'Nurlatifah'],\n",
      " ['Karawang'],\n",
      " ['Pengadilan Tipikor', 'Ade']]\n"
     ]
    }
   ],
   "source": [
    "pprint(all_entity)"
   ]
  },
  {
   "cell_type": "markdown",
   "metadata": {},
   "source": [
    "## Sorting Entity"
   ]
  },
  {
   "cell_type": "code",
   "execution_count": 13,
   "metadata": {},
   "outputs": [
    {
     "name": "stdout",
     "output_type": "stream",
     "text": [
      "[('Ridwan', 4),\n",
      " ('KPK', 3),\n",
      " ('Gatot', 3),\n",
      " ('Pengadilan Tipikor', 2),\n",
      " ('Masyito', 2),\n",
      " ('Rico Diansari', 2),\n",
      " ('Gubernur Bengkulu', 2),\n",
      " ('Ridwan Mukti', 1),\n",
      " ('Ade', 1),\n",
      " ('Karawang', 1),\n",
      " ('Ketua DPD Golkar Provinsi Bengkulu', 1),\n",
      " ('Romi Herton', 1),\n",
      " ('Bupati Karawang Ade Swara', 1),\n",
      " ('Nurlatifah', 1),\n",
      " ('Gubernur Sumatera Utara', 1),\n",
      " ('Sumatera Selatan', 1),\n",
      " ('Nazaruddin', 1),\n",
      " ('Sekretaris Jenderal Partai NasDem', 1),\n",
      " ('Panitera PTUN Medan', 1),\n",
      " ('Lili Martiani Maddari', 1),\n",
      " ('Neneng Sri Wahyuni', 1),\n",
      " ('DKI', 1),\n",
      " ('Medan', 1),\n",
      " ('Lili Martiani', 1),\n",
      " ('Bengkulu', 1),\n",
      " ('Gatot Pujo', 1),\n",
      " ('Evy Susanti', 1),\n",
      " ('Patrice Rio Capella', 1),\n",
      " ('DPD Golkar Provinsi Bengkulu', 1),\n",
      " ('Dewan Perwakilan Rakyat', 1),\n",
      " ('Komisi Pemberantasan Korupsi', 1),\n",
      " ('Susanti', 1),\n",
      " ('Gedung KPK', 1),\n",
      " ('Palembang', 1),\n",
      " ('Neneng', 1),\n",
      " ('Akil Mochtar', 1),\n",
      " ('Tomi Herton', 1),\n",
      " ('Gubernur Bengkulu Ridwan Mukti', 1),\n",
      " ('MK', 1),\n",
      " ('Gatot Pujo Nugroho', 1),\n",
      " ('Komisi', 1)]\n"
     ]
    }
   ],
   "source": [
    "d = leaders(all_entity,100)\n",
    "pprint(d)"
   ]
  }
 ],
 "metadata": {
  "kernelspec": {
   "display_name": "Python 2",
   "language": "python",
   "name": "python2"
  },
  "language_info": {
   "codemirror_mode": {
    "name": "ipython",
    "version": 2
   },
   "file_extension": ".py",
   "mimetype": "text/x-python",
   "name": "python",
   "nbconvert_exporter": "python",
   "pygments_lexer": "ipython2",
   "version": "2.7.13"
  }
 },
 "nbformat": 4,
 "nbformat_minor": 2
}
